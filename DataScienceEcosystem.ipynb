{
 "cells": [
  {
   "cell_type": "markdown",
   "id": "c234ab12",
   "metadata": {},
   "source": [
    "**#Data Science Tools and Ecosystem**"
   ]
  },
  {
   "cell_type": "markdown",
   "id": "f30bd326",
   "metadata": {},
   "source": [
    "**#Introduction**"
   ]
  },
  {
   "cell_type": "markdown",
   "id": "243a23f7",
   "metadata": {},
   "source": [
    "In this notebook, Data Science Tools and Ecosystem are summarized."
   ]
  },
  {
   "cell_type": "markdown",
   "id": "512f56f1",
   "metadata": {},
   "source": [
    "**Objectives**:\n",
    "\n",
    "- Classification\n",
    "- Regression\n",
    "- Clustering Methods\n",
    "- Algebra\n",
    "- Basic Statistics and Probabilities"
   ]
  },
  {
   "cell_type": "markdown",
   "id": "84b20635",
   "metadata": {},
   "source": [
    "##Author Joyce Fernandes"
   ]
  },
  {
   "cell_type": "markdown",
   "id": "82d8eda7",
   "metadata": {},
   "source": [
    "Some of the commonly used libraries used by Data Scientists include:\n",
    "\n",
    "1. Numpy\n",
    "2. Pandas\n",
    "3. Matplotlib\n",
    "4. TensorFlow\n",
    "5. Scipy"
   ]
  },
  {
   "cell_type": "markdown",
   "id": "e0c1e0ca",
   "metadata": {},
   "source": [
    "Some of the popular languages that Data Scientists use are:\n",
    "1. Python\n",
    "2. SQL\n",
    "3. R\n",
    "4. Java\n",
    "5. Julia"
   ]
  },
  {
   "cell_type": "markdown",
   "id": "97ec4b4e",
   "metadata": {},
   "source": [
    "|Data Science Tools |\n",
    "| :----- |\n",
    "| RStudio |\n",
    "| Apache Spark |\n",
    "| Apache Hadoop |"
   ]
  },
  {
   "cell_type": "markdown",
   "id": "b1854b05",
   "metadata": {},
   "source": []
  },
  {
   "cell_type": "markdown",
   "id": "bca233aa",
   "metadata": {},
   "source": [
    "###Below are a few examples of evaluating arithmetic expressions in Python\n",
    "\n",
    "1. (2.5*3.5)\n",
    "2. (2+2)\n",
    "3. (20*3)\n",
    "4. (7-3)\n",
    "5. (2*3+5)"
   ]
  },
  {
   "cell_type": "code",
   "execution_count": 8,
   "id": "154536d5",
   "metadata": {
    "scrolled": true
   },
   "outputs": [
    {
     "data": {
      "text/plain": [
       "17"
      ]
     },
     "execution_count": 8,
     "metadata": {},
     "output_type": "execute_result"
    }
   ],
   "source": [
    "#This a simple arithmetic expression to mutiply then add integers.\n",
    "\n",
    "(3*4)+5"
   ]
  },
  {
   "cell_type": "code",
   "execution_count": 9,
   "id": "8444de03",
   "metadata": {},
   "outputs": [
    {
     "data": {
      "text/plain": [
       "3.3333333333333335"
      ]
     },
     "execution_count": 9,
     "metadata": {},
     "output_type": "execute_result"
    }
   ],
   "source": [
    "# This will convert 200 minutes to hours by diving by 60.\n",
    "\n",
    "200/60"
   ]
  },
  {
   "cell_type": "code",
   "execution_count": null,
   "id": "e3dbc3e2",
   "metadata": {},
   "outputs": [],
   "source": []
  }
 ],
 "metadata": {
  "kernelspec": {
   "display_name": "Python 3 (ipykernel)",
   "language": "python",
   "name": "python3"
  },
  "language_info": {
   "codemirror_mode": {
    "name": "ipython",
    "version": 3
   },
   "file_extension": ".py",
   "mimetype": "text/x-python",
   "name": "python",
   "nbconvert_exporter": "python",
   "pygments_lexer": "ipython3",
   "version": "3.9.13"
  }
 },
 "nbformat": 4,
 "nbformat_minor": 5
}
